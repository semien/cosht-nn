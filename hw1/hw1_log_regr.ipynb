{
  "nbformat": 4,
  "nbformat_minor": 0,
  "metadata": {
    "colab": {
      "name": "hw1_log_regr.ipynb",
      "version": "0.3.2",
      "provenance": [],
      "collapsed_sections": []
    },
    "kernelspec": {
      "name": "python3",
      "display_name": "Python 3"
    },
    "accelerator": "GPU"
  },
  "cells": [
    {
      "cell_type": "markdown",
      "metadata": {
        "id": "vcCnSUr0IU9h",
        "colab_type": "text"
      },
      "source": [
        "# Deep Learning\n",
        "\n",
        "Начнём наш курс с исторической справки, когда и как что появилось:\n",
        "\n",
        "<img src=\"https://drive.google.com/uc?export=view&id=1c-NlY2gB_yHj_jOzj0MmqizzFSsjZboI\" style=\"width:1066px;height:501px;\">\n",
        "\n",
        "Предполагается, что модель нейрона, используемая в искусственных нейросетях, называемая [перцептроном](https://ru.wikipedia.org/wiki/%D0%9F%D0%B5%D1%80%D1%86%D0%B5%D0%BF%D1%82%D1%80%D0%BE%D0%BD), соответствует биологическим нейронам головного мозга (предполоджение выдвинуто в 1957 году нейрофизиологом Фрэнком Розенблаттом).\n",
        "\n",
        "<img src=\"https://drive.google.com/uc?export=view&id=1wh2tZL8Z5H802sZ6j1rCJvqNI9PZjPwT\" style=\"width:533px;height:250px;\">\n",
        "\n",
        "На рисунке выше изображена одна из первых моделей нейросети (1965 год), однако веса в такой модели не подбирались в процессе обучения, а задавались исходя из каких-то базовых предположений.\n",
        "\n",
        "Помимо событий, отмеченных в таймлайне, нелишним будет упомянуть теорему об универсальной аппроксимации (1989 by George Cybenko), являющейся математическим доказательством того, что искусственная нейросеть способна аппроксимировать любую \"достаточно хорошую\" функцию:\n",
        "\n",
        "[Универсальная теорема об аппроксимации (википедии);](https://en.wikipedia.org/wiki/Universal_approximation_theorem)\n",
        "\n",
        "[Универсальная теорема об аппроксимации (оригинальная статья);](http://citeseerx.ist.psu.edu/viewdoc/download?doi=10.1.1.441.7873&rep=rep1&type=pdf)\n",
        "\n",
        "Начало 2000-ых называется также периодом AI Winter (вторая зима ИИ), поскольку все идеи уже были изложены, но по причине отсутствия больших наборов данных и производительных процессоров обучать сложные и глубокие нейросети не представлялось возможным...\n",
        "\n",
        "2012 год считается прорывным, поскольку тогда нейросеть [AlexNet](https://papers.nips.cc/paper/4824-imagenet-classification-with-deep-convolutional-neural-networks.pdf), обученная на GPU, сумела выиграть соревнование по распознаванию изображений с большим отрывом (порядка 12%). Именно тогда поднялся хайп вокруг DL :)\n",
        "\n",
        "Еще одним прорывом было поражение [Ли Седоля в игру Go](https://en.wikipedia.org/wiki/AlphaGo_versus_Lee_Sedol) весной 2016 года. AlphaGo был разработан лабораторией Google DeepMind во главе с Демисом Хасабисом. Игра Go считалась прежде непостижимой для AI по причине того, что количество возможных комбинаций ходов не позволяло аналитически строить дерево решений."
      ]
    },
    {
      "cell_type": "code",
      "metadata": {
        "id": "0RuE1IjzisTw",
        "colab_type": "code",
        "colab": {}
      },
      "source": [
        "import cv2\n",
        "import numpy as np\n",
        "import os\n",
        "from google.colab import drive "
      ],
      "execution_count": 0,
      "outputs": []
    },
    {
      "cell_type": "markdown",
      "metadata": {
        "id": "rjFdUqCVIU9k",
        "colab_type": "text"
      },
      "source": [
        "## Логистическая регрессия"
      ]
    },
    {
      "cell_type": "markdown",
      "metadata": {
        "id": "Cde48YI-IU9n",
        "colab_type": "text"
      },
      "source": [
        "В данном упражнении мы построим простейший классификатор изображений, основанный на логистической регрессии. \n",
        "\n",
        "<img src=\"https://drive.google.com/uc?export=view&id=14TpTs8-VqVOFR9qMUW4mjMdC6sOpd5Bl\" style=\"width:618px;height:306px;\">\n",
        "\n",
        "Данные в модель мы будем подавать хитрым образом: изображение, то есть матрицу размером $(n,n)$ мы преобразуем в вектор столбец размерности $(n^2,1)$. После этого полученный многомерный вектор будем подавать на вход в модель. Такая модель предполагает, что $n$ необходимо определить заранее, перед обучением, и в дальнейшем его нельзя будет изменить (потребуется обучать модель заново). \n",
        "\n",
        "Таким образом, надо проверять, являются ли размеры изображения допустимыми перед тем, как подавать его в модель. Если нет, то можно воспользоваться функцией resize из библиотеки openCV, которая изменяет размеры изображения."
      ]
    },
    {
      "cell_type": "markdown",
      "metadata": {
        "id": "win6YkQiIU9o",
        "colab_type": "text"
      },
      "source": [
        "### Шаг 1. Инициализация модели\n",
        "\n",
        "Данная функция возвращает маccив $w$ и число $b$, которые на каждой итерации обучения будут обновляться."
      ]
    },
    {
      "cell_type": "code",
      "metadata": {
        "id": "HLJ-qMzCIU9p",
        "colab_type": "code",
        "colab": {}
      },
      "source": [
        "def init_model(input_size=256):\n",
        "    \n",
        "    ###ЗАДАЧА: проинициализируйте веса модели так, чтобы массив w имел размер (input_size^2,1), а b был числом\n",
        "    w = np.zeros(input_size ** 2)\n",
        "    b = 0\n",
        "    return w, b"
      ],
      "execution_count": 0,
      "outputs": []
    },
    {
      "cell_type": "code",
      "metadata": {
        "id": "W-IG36L1iwXv",
        "colab_type": "code",
        "outputId": "21de3ce5-32c6-4905-d611-cca981e08716",
        "colab": {
          "base_uri": "https://localhost:8080/",
          "height": 34
        }
      },
      "source": [
        "init_model()"
      ],
      "execution_count": 3,
      "outputs": [
        {
          "output_type": "execute_result",
          "data": {
            "text/plain": [
              "(array([0., 0., 0., ..., 0., 0., 0.]), 0)"
            ]
          },
          "metadata": {
            "tags": []
          },
          "execution_count": 3
        }
      ]
    },
    {
      "cell_type": "markdown",
      "metadata": {
        "id": "5DVJqj_TIU9w",
        "colab_type": "text"
      },
      "source": [
        "В нашей модели логистической регрессии по большому счету неважно, как были проинициализированы веса (можно проинициализировать все значения нулями, можно - случайными значениями, можно двойками и т.д.:) ). Однако для глубоких нейросетей это имеет очень большое значение, и $\\textbf{крайне не рекомендуется инициализировать значения нулями!}$ Об этом мы ещё обязательно поговорим в дальнейшем."
      ]
    },
    {
      "cell_type": "markdown",
      "metadata": {
        "id": "92Yo_7ryIU9x",
        "colab_type": "text"
      },
      "source": [
        "### Шаг 2. Обучение модели\n",
        "\n",
        "После того как мы задали начальные параметры (он пока был всего один - это размер  $n$) и проинициализировали веса, можно приступать к обучению модели.\n",
        "\n",
        "Обучение модели осуществляется в цикле и состоит из трех шагов:\n",
        "    - подсчет текущего значения функции ошибки\n",
        "    - подсчет градиента функции ошибки\n",
        "    - обновление весов модели\n",
        "    \n",
        "Вспомним теорию...\n",
        "\n",
        "Для i-ого образца $x^{(i)}$:\n",
        "\n",
        "$$z^{(i)} = w^T x^{(i)} + b \\tag{1}$$\n",
        "\n",
        "$$\\hat{y}^{(i)} = a^{(i)} = sigmoid(z^{(i)})\\tag{2}$$ \n",
        "\n",
        "$$ \\mathcal{L}(a^{(i)}, y^{(i)}) =  - y^{(i)}  \\log(a^{(i)}) - (1-y^{(i)} )  \\log(1-a^{(i)})\\tag{3}$$\n",
        "\n",
        "Подсчет функции ошибки - это суммирование потерь на всех образцах:\n",
        "\n",
        "$$ J = \\frac{1}{m} \\sum_{i=1}^m \\mathcal{L}(a^{(i)}, y^{(i)})\\tag{4}$$\n",
        "\n",
        "**Задачи**:\n",
        "\n",
        "Необходимо будет реализовать следующие шаги: \n",
        "    - Инициализировать параметры модели\n",
        "    - Обучить параметры, минимизируя функцию потерь  \n",
        "    - Проверить модель на тестовом наборе данных\n",
        "    - Проанализировать обученную модель\n",
        "    \n",
        "Для начала необходимо будет объявить несколько вспомогательных функций, а затем собрать из них модель и начать обучение."
      ]
    },
    {
      "cell_type": "code",
      "metadata": {
        "id": "adVpUSMqIU9y",
        "colab_type": "code",
        "colab": {}
      },
      "source": [
        "def sigmoid(z):\n",
        "    ###ВАЖНО: функция принимает на вход массив любых размеров, на выход возвращает массив такого же размера\n",
        "    s = 1 / (1 + np.exp(-z))\n",
        "    return s"
      ],
      "execution_count": 0,
      "outputs": []
    },
    {
      "cell_type": "code",
      "metadata": {
        "id": "yTYMJRG7jc4d",
        "colab_type": "code",
        "outputId": "203e7051-da3c-4e37-ee05-19675e24c3ed",
        "colab": {
          "base_uri": "https://localhost:8080/",
          "height": 34
        }
      },
      "source": [
        "sigmoid(np.array([[1,0,0]]))"
      ],
      "execution_count": 5,
      "outputs": [
        {
          "output_type": "execute_result",
          "data": {
            "text/plain": [
              "array([[0.73105858, 0.5       , 0.5       ]])"
            ]
          },
          "metadata": {
            "tags": []
          },
          "execution_count": 5
        }
      ]
    },
    {
      "cell_type": "markdown",
      "metadata": {
        "id": "k_gv0mwVIU91",
        "colab_type": "text"
      },
      "source": [
        "Еще раз выпишем формулы для вывода текущего предсказания, для текущей ошибки и для текущего градиента функции ошибки:\n",
        "\n",
        "    - Подсчитываем предсказание (forward propagation):\n",
        "    \n",
        "$$A = \\sigma(w^T X + b) = (a^{(1)}, a^{(2)}, ..., a^{(m-1)}, a^{(m)})\\tag{6}$$\n",
        "    - Подсчитываем функцию ошибки: \n",
        "    \n",
        "$$J = -\\frac{1}{m}\\sum_{i=1}^{m}y^{(i)}\\log(a^{(i)})+(1-y^{(i)})\\log(1-a^{(i)})\\tag{7}$$\n",
        "    - Подсчитываем градиент функции ошибки (backward propagation):\n",
        "    \n",
        "$$ \\frac{\\partial J}{\\partial w}=\\nabla J_w = \\frac{1}{m}X(A-Y)^T\\tag{8}$$\n",
        "\n",
        "$$ \\frac{\\partial J}{\\partial b} =\\frac{dJ}{db}= \\frac{1}{m} \\sum_{i=1}^m (a^{(i)}-y^{(i)})\\tag{9}$$"
      ]
    },
    {
      "cell_type": "code",
      "metadata": {
        "id": "qbuqfkeJIU92",
        "colab_type": "code",
        "colab": {}
      },
      "source": [
        "def propagate(w, b, X, Y):\n",
        "    \"\"\"\n",
        "    Подсчет текущего предсказания (оно же forward propagation) и градиента функции ошибки (оно же backward propagation)\n",
        "\n",
        "    Input:\n",
        "    w -- веса, numpy_array размера (num_px * num_px * 3, 1)\n",
        "    b -- смещение, скалярная величина\n",
        "    X -- данные размера (num_px * num_px * 3, кол-во образцов)\n",
        "    Y -- вектор истинных ответов размера (1, кол-во образцов)\n",
        "\n",
        "    Return:\n",
        "    cost -- текущая функция потерь\n",
        "    dw -- градиент функции ошибки по w\n",
        "    db -- градиент функции ошибки по b (по сути производная по b)\n",
        "    \n",
        "    \"\"\"\n",
        "    \n",
        "    m = X.shape[1]\n",
        "    A = sigmoid(w.T @ X + b)\n",
        "    cost = -((Y * np.log(A) + (1.0 - Y) * np.log(1.0 - A))).sum()/m\n",
        "    dw = 1.0/m * X @ (A-Y).T\n",
        "    db = 1.0/m * (A-Y).sum()\n",
        "    \n",
        "    grads = {\"dw\": dw,\n",
        "             \"db\": db}\n",
        "    \n",
        "    return grads, cost"
      ],
      "execution_count": 0,
      "outputs": []
    },
    {
      "cell_type": "markdown",
      "metadata": {
        "id": "tmtMpf3AIU95",
        "colab_type": "text"
      },
      "source": [
        "Мы реализовали блоки для работы модели и для подсчета функции ошибки и необходимых градиентов. Теперь осталось реализовать функцию, осуществляющую обучение. \n",
        "\n",
        "**Под обучением мы сейчас и впредь будем иметь в виду обновление весов таким образом, чтобы функция ошибки на  обучающей выборке достигала минимума.**\n",
        "\n",
        "**Важно!!!** Под записями $dw$ и $db$ мы будем подразумевать соответствующие градиенты функции потерь, то есть $\\frac{\\partial J}{\\partial w}$(вектор) и $\\frac{\\partial J}{\\partial b} (скаляр)$.\n",
        "\n",
        " **Задание:** Реализуйте шаг обновления весов модели. Для параметра $w$ обновление выглядит так: \n",
        " \n",
        " $ w := w - \\alpha \\text{ } dw \\tag{10},$ а \n",
        " \n",
        " $$ b : = b - \\alpha \\text{ } db \\tag{11},$$\n",
        " \n",
        "где $\\alpha$ - некий коэффициент (который называется $\\textit{learning rate}$ - не будем переводить это на русский язык)."
      ]
    },
    {
      "cell_type": "code",
      "metadata": {
        "id": "vpXPeWNqIU97",
        "colab_type": "code",
        "colab": {}
      },
      "source": [
        "def optimize(w, b, X, Y, num_iterations, learning_rate, print_cost = False):\n",
        "    \"\"\"\n",
        "    Оптимизация с помощью простого градиентного спуска\n",
        "    \n",
        "    Input:\n",
        "    w -- веса, numpy_array размера (num_px * num_px * 3, 1)\n",
        "    b -- смещение, скалярная величина\n",
        "    X -- данные размера (num_px * num_px * 3, кол-во образцов)\n",
        "    Y -- вектор истинных ответов размера (1, кол-во образцов)\n",
        "    num_iterations -- кол-во итераций алгоритма оптимизации\n",
        "    learning_rate -- коэффициент learning rate\n",
        "    print_cost -- True, если хотите выводить функцию ошибки на каждых 100 итерациях\n",
        "    \n",
        "    Returns:\n",
        "    params -- словарь, содержащий w и b\n",
        "    grads -- словарь, содержащий градиенты функции ошибки по w и b соответственно\n",
        "    costs -- массив (list) со значением функции ошибки для каждой итерации (так делают для визуализации)\n",
        "    \n",
        "    Подсказка:\n",
        "    \n",
        "        1) Используйте ранее написанную функцию propagate().\n",
        "        2) Обновляйте параметры w и b согласно формуле 10.\n",
        "    \"\"\"\n",
        "    \n",
        "    costs = []\n",
        "    \n",
        "    for i in range(num_iterations):\n",
        "        \n",
        "        \n",
        "        ###Напишите значения для градиентов и функции ошибки\n",
        "        grads, cost = propagate(w,b,X,Y)\n",
        "        \n",
        "        \n",
        "        # Retrieve derivatives from grads\n",
        "        dw = grads[\"dw\"]\n",
        "        db = grads[\"db\"]\n",
        "        \n",
        "        # обновление параметров\n",
        "        \n",
        "        ### START CODE HERE ###\n",
        "        w = w - dw * learning_rate\n",
        "        b = b - db * learning_rate\n",
        "        ### END CODE HERE ###\n",
        "        \n",
        "        # Record the costs\n",
        "        if i % 100 == 0:\n",
        "            costs.append(cost)\n",
        "        \n",
        "        # Print the cost every 100 training iterations\n",
        "        if print_cost and i % 100 == 0:\n",
        "            print (\"Cost after iteration %i: %f\" %(i, cost))\n",
        "    \n",
        "    params = {\"w\": w,\n",
        "              \"b\": b}\n",
        "    \n",
        "    grads = {\"dw\": dw,\n",
        "             \"db\": db}\n",
        "    \n",
        "    return params, grads, costs"
      ],
      "execution_count": 0,
      "outputs": []
    },
    {
      "cell_type": "markdown",
      "metadata": {
        "id": "Z5_Ajej6IU-C",
        "colab_type": "text"
      },
      "source": [
        "Теперь реализуем функцию predict(), которая будет вызываться уже после обучения для предсказания моделью:"
      ]
    },
    {
      "cell_type": "code",
      "metadata": {
        "id": "6ssGA9HTIU-E",
        "colab_type": "code",
        "colab": {}
      },
      "source": [
        "def predict(w, b, X):\n",
        "    '''\n",
        "    \n",
        "    Inputs:\n",
        "    w\n",
        "    b\n",
        "    X -- данные размера (num_px * num_px * 3, кол-во образцов)\n",
        "    \n",
        "    Returns:\n",
        "    Y_prediction\n",
        "    '''\n",
        "    \n",
        "    m = X.shape[1]\n",
        "    Y_prediction = np.zeros((1,m))\n",
        "    w = w.reshape(X.shape[0], 1)\n",
        "    \n",
        "    \n",
        "    ### START CODE HERE ### (≈ 1 line of code)\n",
        "    A = sigmoid(w.T @ X + b)\n",
        "    ### END CODE HERE ###\n",
        "    \n",
        "    for i in range(A.shape[1]):\n",
        "        \n",
        "        # Установите порог, выше которого считаем, что модель выдает 1, а ниже - ноль\n",
        "        ### START CODE HERE ###\n",
        "        Y_prediction[0,i] = (A[0,i]>0.7)*1\n",
        "        ### END CODE HERE ###\n",
        "    \n",
        "    \n",
        "    return Y_prediction"
      ],
      "execution_count": 0,
      "outputs": []
    },
    {
      "cell_type": "code",
      "metadata": {
        "id": "_fyB4AQ9IU-K",
        "colab_type": "code",
        "colab": {}
      },
      "source": [
        ""
      ],
      "execution_count": 0,
      "outputs": []
    },
    {
      "cell_type": "markdown",
      "metadata": {
        "id": "ttuTeWs5Dvji",
        "colab_type": "text"
      },
      "source": [
        "### Необходимые библиотеки\n",
        "\n",
        "Перед запуском программ необходимо импортировать следующие библиотеки:\n",
        "\n",
        "```python\n",
        "import cv2\n",
        "import numpy as np\n",
        "import os\n",
        "from google.colab import drive \n",
        "```"
      ]
    },
    {
      "cell_type": "markdown",
      "metadata": {
        "id": "g5UgJ5XtQz1i",
        "colab_type": "text"
      },
      "source": [
        "**Важно:**\n",
        "Как монтировать google drive?"
      ]
    },
    {
      "cell_type": "code",
      "metadata": {
        "id": "O0LQZTllQy6P",
        "colab_type": "code",
        "outputId": "ced29fc0-6565-4213-87d3-b261d61062ab",
        "colab": {
          "base_uri": "https://localhost:8080/",
          "height": 34
        }
      },
      "source": [
        "from google.colab import drive \n",
        "drive.mount('/content/gdrive')"
      ],
      "execution_count": 8,
      "outputs": [
        {
          "output_type": "stream",
          "text": [
            "Drive already mounted at /content/gdrive; to attempt to forcibly remount, call drive.mount(\"/content/gdrive\", force_remount=True).\n"
          ],
          "name": "stdout"
        }
      ]
    },
    {
      "cell_type": "code",
      "metadata": {
        "id": "RjCIbg2DFbRM",
        "colab_type": "code",
        "outputId": "7c9587ae-5abb-495c-8c0d-16a3d59c8b99",
        "colab": {
          "base_uri": "https://localhost:8080/",
          "height": 83
        }
      },
      "source": [
        "!unzip -q /content/gdrive/My\\ Drive/COS\\ HT\\ presentations/Lesson_1/lesson1_dataset.zip -d /content/gdrive/My\\ Drive/COSHTHomeworks/1/dataset"
      ],
      "execution_count": 0,
      "outputs": [
        {
          "output_type": "stream",
          "text": [
            "replace /content/gdrive/My Drive/COSHTHomeworks/1/dataset/logloss_1/m3.png? [y]es, [n]o, [A]ll, [N]one, [r]ename: y\n",
            "replace /content/gdrive/My Drive/COSHTHomeworks/1/dataset/logloss_1/logloss_1logloss_1_34.png? [y]es, [n]o, [A]ll, [N]one, [r]ename: A\n"
          ],
          "name": "stdout"
        }
      ]
    },
    {
      "cell_type": "markdown",
      "metadata": {
        "id": "8fmXutJUQzRq",
        "colab_type": "text"
      },
      "source": [
        "### Парсер данных\n",
        "\n",
        "Парсер файлов уже написан и приведен ниже. В качестве аргументов ему передаются X - пустое значение, Y - пустой NumPy массив, path - директория к изображением, ans - ответ (1 - если в этой директории лежат кадры с коробками, 0 - если наоборот)."
      ]
    },
    {
      "cell_type": "code",
      "metadata": {
        "id": "Ou_l2zlIAbKC",
        "colab_type": "code",
        "colab": {}
      },
      "source": [
        "size = 256\n",
        "X = None\n",
        "Y = np.array([])\n",
        "def read_files(X, Y, path, ans):\n",
        "  files = os.listdir(path)\n",
        "  for name in files:\n",
        "    img = cv2.imread(path + '/' + name, 0)\n",
        "    if img.shape != 0:\n",
        "      img = cv2.resize(img, (size, size))\n",
        "      vect = img.reshape(1, size ** 2)\n",
        "      vect = vect / 255\n",
        "      X = vect if (X is None) else np.vstack((X, vect)) \n",
        "      Y = np.append(Y, ans)\n",
        "  return X, Y"
      ],
      "execution_count": 0,
      "outputs": []
    },
    {
      "cell_type": "code",
      "metadata": {
        "id": "N11Sgt7pBF4i",
        "colab_type": "code",
        "outputId": "92b9d68f-ec70-4191-be1e-8f0e572b558d",
        "colab": {
          "base_uri": "https://localhost:8080/",
          "height": 34
        }
      },
      "source": [
        "path = '/content/gdrive/My Drive/COSHTHomeworks/1/dataset'\n",
        "os.listdir(path)"
      ],
      "execution_count": 10,
      "outputs": [
        {
          "output_type": "execute_result",
          "data": {
            "text/plain": [
              "['logloss_1', '__MACOSX', 'logloss_0']"
            ]
          },
          "metadata": {
            "tags": []
          },
          "execution_count": 10
        }
      ]
    },
    {
      "cell_type": "code",
      "metadata": {
        "id": "8oMc2QPrGzl_",
        "colab_type": "code",
        "colab": {}
      },
      "source": [
        "path1 = path+'/logloss_0'\n",
        "X_0, Y_0 = read_files(None, np.array([]), path1, 0)"
      ],
      "execution_count": 0,
      "outputs": []
    },
    {
      "cell_type": "code",
      "metadata": {
        "id": "8pO7tzRbHMna",
        "colab_type": "code",
        "outputId": "5df99bfe-9545-478d-e385-63fb9f864d60",
        "colab": {
          "base_uri": "https://localhost:8080/",
          "height": 34
        }
      },
      "source": [
        "X_0.shape"
      ],
      "execution_count": 49,
      "outputs": [
        {
          "output_type": "execute_result",
          "data": {
            "text/plain": [
              "(22, 65536)"
            ]
          },
          "metadata": {
            "tags": []
          },
          "execution_count": 49
        }
      ]
    },
    {
      "cell_type": "code",
      "metadata": {
        "id": "pBRIJg96HOAs",
        "colab_type": "code",
        "colab": {}
      },
      "source": [
        "path2 = path+'/logloss_1'\n",
        "X_1, Y_1 = read_files(None, np.array([]), path2, 1)"
      ],
      "execution_count": 0,
      "outputs": []
    },
    {
      "cell_type": "code",
      "metadata": {
        "id": "lvcknep0Hg0O",
        "colab_type": "code",
        "outputId": "774df10e-ca87-4069-8722-2a6bf9859a98",
        "colab": {
          "base_uri": "https://localhost:8080/",
          "height": 34
        }
      },
      "source": [
        "X_1.shape"
      ],
      "execution_count": 51,
      "outputs": [
        {
          "output_type": "execute_result",
          "data": {
            "text/plain": [
              "(43, 65536)"
            ]
          },
          "metadata": {
            "tags": []
          },
          "execution_count": 51
        }
      ]
    },
    {
      "cell_type": "code",
      "metadata": {
        "id": "d4ZWmkoQHiU5",
        "colab_type": "code",
        "colab": {}
      },
      "source": [
        "X = np.vstack((X_0,X_1))\n",
        "Y = np.hstack((Y_0,Y_1))"
      ],
      "execution_count": 0,
      "outputs": []
    },
    {
      "cell_type": "code",
      "metadata": {
        "id": "9Cwx4t8II8hf",
        "colab_type": "code",
        "colab": {}
      },
      "source": [
        "from sklearn.model_selection import train_test_split\n",
        "X_train, X_test, y_train, y_test = train_test_split(X, Y, test_size=0.2, random_state=42)"
      ],
      "execution_count": 0,
      "outputs": []
    },
    {
      "cell_type": "code",
      "metadata": {
        "id": "uJ9T71ymJdh2",
        "colab_type": "code",
        "colab": {}
      },
      "source": [
        "w,b = init_model(size)"
      ],
      "execution_count": 0,
      "outputs": []
    },
    {
      "cell_type": "code",
      "metadata": {
        "id": "DAToqWrSKU9i",
        "colab_type": "code",
        "outputId": "90935fab-670a-4d91-d7be-0a418a679df5",
        "colab": {
          "base_uri": "https://localhost:8080/",
          "height": 85
        }
      },
      "source": [
        "y_train"
      ],
      "execution_count": 62,
      "outputs": [
        {
          "output_type": "execute_result",
          "data": {
            "text/plain": [
              "array([0., 1., 1., 0., 0., 1., 0., 0., 1., 0., 1., 1., 0., 1., 1., 1., 1.,\n",
              "       1., 1., 1., 0., 1., 1., 1., 1., 0., 1., 1., 1., 1., 1., 1., 1., 0.,\n",
              "       0., 0., 1., 1., 1., 1., 1., 0., 1., 0., 1., 1., 0., 0., 1., 0., 1.,\n",
              "       1.])"
            ]
          },
          "metadata": {
            "tags": []
          },
          "execution_count": 62
        }
      ]
    },
    {
      "cell_type": "code",
      "metadata": {
        "id": "et5-9gh7Jv83",
        "colab_type": "code",
        "colab": {
          "base_uri": "https://localhost:8080/",
          "height": 731
        },
        "outputId": "2a819823-0bec-40b1-9645-514c60c8ee7a"
      },
      "source": [
        "params, grads, costs = optimize(w.reshape((w.size,1)), b, X_train.T, y_train.reshape((1,y_train.size)), 4000,0.01,True)"
      ],
      "execution_count": 63,
      "outputs": [
        {
          "output_type": "stream",
          "text": [
            "Cost after iteration 0: 0.693147\n"
          ],
          "name": "stdout"
        },
        {
          "output_type": "stream",
          "text": [
            "/usr/local/lib/python3.6/dist-packages/ipykernel_launcher.py:20: RuntimeWarning: divide by zero encountered in log\n",
            "/usr/local/lib/python3.6/dist-packages/ipykernel_launcher.py:20: RuntimeWarning: invalid value encountered in multiply\n"
          ],
          "name": "stderr"
        },
        {
          "output_type": "stream",
          "text": [
            "Cost after iteration 100: 0.029816\n",
            "Cost after iteration 200: 0.019208\n",
            "Cost after iteration 300: 0.014683\n",
            "Cost after iteration 400: 0.012080\n",
            "Cost after iteration 500: 0.010356\n",
            "Cost after iteration 600: 0.009115\n",
            "Cost after iteration 700: 0.008173\n",
            "Cost after iteration 800: 0.007429\n",
            "Cost after iteration 900: 0.006824\n",
            "Cost after iteration 1000: 0.006321\n",
            "Cost after iteration 1100: 0.005895\n",
            "Cost after iteration 1200: 0.005529\n",
            "Cost after iteration 1300: 0.005210\n",
            "Cost after iteration 1400: 0.004930\n",
            "Cost after iteration 1500: 0.004681\n",
            "Cost after iteration 1600: 0.004459\n",
            "Cost after iteration 1700: 0.004258\n",
            "Cost after iteration 1800: 0.004077\n",
            "Cost after iteration 1900: 0.003912\n",
            "Cost after iteration 2000: 0.003760\n",
            "Cost after iteration 2100: 0.003621\n",
            "Cost after iteration 2200: 0.003493\n",
            "Cost after iteration 2300: 0.003374\n",
            "Cost after iteration 2400: 0.003263\n",
            "Cost after iteration 2500: 0.003160\n",
            "Cost after iteration 2600: 0.003064\n",
            "Cost after iteration 2700: 0.002974\n",
            "Cost after iteration 2800: 0.002890\n",
            "Cost after iteration 2900: 0.002810\n",
            "Cost after iteration 3000: 0.002735\n",
            "Cost after iteration 3100: 0.002664\n",
            "Cost after iteration 3200: 0.002597\n",
            "Cost after iteration 3300: 0.002534\n",
            "Cost after iteration 3400: 0.002473\n",
            "Cost after iteration 3500: 0.002416\n",
            "Cost after iteration 3600: 0.002361\n",
            "Cost after iteration 3700: 0.002309\n",
            "Cost after iteration 3800: 0.002259\n",
            "Cost after iteration 3900: 0.002212\n"
          ],
          "name": "stdout"
        }
      ]
    },
    {
      "cell_type": "code",
      "metadata": {
        "id": "4rTXCAGNvQJG",
        "colab_type": "code",
        "colab": {
          "base_uri": "https://localhost:8080/",
          "height": 34
        },
        "outputId": "8de35a32-e640-458f-aec9-60010ad92963"
      },
      "source": [
        "w_f.shape"
      ],
      "execution_count": 67,
      "outputs": [
        {
          "output_type": "execute_result",
          "data": {
            "text/plain": [
              "(65536, 1)"
            ]
          },
          "metadata": {
            "tags": []
          },
          "execution_count": 67
        }
      ]
    },
    {
      "cell_type": "code",
      "metadata": {
        "id": "YB_kHdRGKaD3",
        "colab_type": "code",
        "colab": {}
      },
      "source": [
        "w_f = params[\"w\"]\n",
        "w_f = w_f.reshape((w_f.size,1))\n",
        "prediction = predict(w_f, params[\"b\"], X_test.T)"
      ],
      "execution_count": 0,
      "outputs": []
    },
    {
      "cell_type": "code",
      "metadata": {
        "id": "ksSVkMSqu4WW",
        "colab_type": "code",
        "colab": {
          "base_uri": "https://localhost:8080/",
          "height": 34
        },
        "outputId": "b824fb5a-7ad6-4d2a-ac03-023d963ebbf6"
      },
      "source": [
        "y_test"
      ],
      "execution_count": 80,
      "outputs": [
        {
          "output_type": "execute_result",
          "data": {
            "text/plain": [
              "array([1., 1., 0., 1., 0., 1., 0., 0., 1., 1., 1., 0., 1.])"
            ]
          },
          "metadata": {
            "tags": []
          },
          "execution_count": 80
        }
      ]
    },
    {
      "cell_type": "code",
      "metadata": {
        "id": "4Q0G2xLnwabf",
        "colab_type": "code",
        "colab": {
          "base_uri": "https://localhost:8080/",
          "height": 34
        },
        "outputId": "3b1445ed-6058-411a-a10a-7ca75e19ae0d"
      },
      "source": [
        "from sklearn.metrics import accuracy_score\n",
        "accuracy_score(prediction.reshape(13), y_test)"
      ],
      "execution_count": 81,
      "outputs": [
        {
          "output_type": "execute_result",
          "data": {
            "text/plain": [
              "0.7692307692307693"
            ]
          },
          "metadata": {
            "tags": []
          },
          "execution_count": 81
        }
      ]
    }
  ]
}